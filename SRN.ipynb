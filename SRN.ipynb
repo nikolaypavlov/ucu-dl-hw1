{
 "cells": [
  {
   "cell_type": "code",
   "execution_count": 1,
   "metadata": {
    "collapsed": true
   },
   "outputs": [],
   "source": [
    "import numpy as np"
   ]
  },
  {
   "cell_type": "code",
   "execution_count": 130,
   "metadata": {
    "collapsed": true
   },
   "outputs": [],
   "source": [
    "class SequenceGenerator:\n",
    "    def __init__(self, x, sequence_size, batch_size):\n",
    "        if x.shape[0] < sequence_size:\n",
    "            raise ValueError(\"sequence_size can't be bigger than total number of samples\")\n",
    "        \n",
    "        if batch_size < 1:\n",
    "            raise ValueError(\"batch_size can't be less than 1\")\n",
    "            \n",
    "        if batch_size > x.shape[0]:\n",
    "            raise ValueError(\"batch_size can't be bigger than total number of samples\")\n",
    "            \n",
    "        self.sequence_size = sequence_size\n",
    "        self.batch_size = batch_size\n",
    "        self.x = x\n",
    "        self.samples_generated = 0\n",
    "        self.epochs = 0\n",
    "        self.samples_gen = self._samples_gen()\n",
    "            \n",
    "    def _samples_gen(self):\n",
    "        while True:\n",
    "            indices = np.random.choice(range(self.x.shape[0] - self.sequence_size - 1), self.batch_size)\n",
    "            sample_indices = [range(i, i + self.sequence_size) for i in indices]\n",
    "            targets_indices = indices + self.sequence_size\n",
    "            batch = np.take(self.x, sample_indices)\n",
    "            target = np.take(self.x, targets_indices)\n",
    "\n",
    "            assert batch.shape == (self.batch_size, self.sequence_size)\n",
    "            assert target.shape == (self.batch_size, )\n",
    "\n",
    "            yield batch, target\n",
    "        \n",
    "    def next_batch(self):\n",
    "        batch, target = next(self.samples_gen)\n",
    "        self.samples_generated += target.shape[0]\n",
    "        if self.samples_generated >= self.x.shape[0]:\n",
    "            self.epochs += 1\n",
    "            self.samples_generated = self.x.shape[0] - self.samples_generated\n",
    "        return batch, target\n",
    "    \n",
    "    \n",
    "class XavierInitializer:\n",
    "    def do_init(self, in_num, out_num, tensor_shape):\n",
    "        low_bound = -np.sqrt(6.0 / (in_num + out_num))\n",
    "        high_bound = np.sqrt(6.0 / (in_num + out_num))\n",
    "        return np.random.uniform(low_bound, high_bound, size=tensor_shape)"
   ]
  },
  {
   "cell_type": "code",
   "execution_count": 133,
   "metadata": {},
   "outputs": [],
   "source": [
    "class RNN:\n",
    "    def __init__(self, units, sequence_size):\n",
    "        self.units = units\n",
    "        self.activation = 'tanh'\n",
    "        self.initializer = XavierInitializer()\n",
    "        self.sequence_size = sequence_size\n",
    "        \n",
    "    def _initialize_tensors(self):\n",
    "        w_rec_shape = (self.units, self.units)\n",
    "        w_in_shape = (self.units, self.sequence_size)\n",
    "        w_out_shape = (self.sequence_size, self.units)\n",
    "        b_1_shape = (self.units, )\n",
    "        b_2_shape = (self.sequence_size, )\n",
    "        \n",
    "        self.w_rec = self.initializer.do_init(\n",
    "            self.units * self.units, \n",
    "            self.units, \n",
    "            w_rec_shape)\n",
    "        self.w_in = self.initializer.do_init(\n",
    "            self.units * self.sequence_size, \n",
    "            self.units, \n",
    "            w_in_shape)\n",
    "        self.w_out = self.initializer.do_init(\n",
    "            self.sequence_size * self.units, \n",
    "            self.sequence_size, \n",
    "            w_out_shape)\n",
    "        self.b_1 = np.zeros(b_1_shape)\n",
    "        self.b_2 = np.zeros(b_2_shape)\n",
    "        \n",
    "    def fit(self, x, batch_size=32, epochs=32):\n",
    "        self.batch_generator = SequenceGenerator(x, self.sequence_size, batch_size)\n",
    "        self._initialize_tensors()\n",
    "        # while self.batch_generator.epochs < epochs:\n",
    "            # Forward prop\n",
    "            \n",
    "            # Backward prop\n",
    "        \n",
    "            # Weight update"
   ]
  }
 ],
 "metadata": {
  "kernelspec": {
   "display_name": "Python 3",
   "language": "python",
   "name": "python3"
  },
  "language_info": {
   "codemirror_mode": {
    "name": "ipython",
    "version": 3
   },
   "file_extension": ".py",
   "mimetype": "text/x-python",
   "name": "python",
   "nbconvert_exporter": "python",
   "pygments_lexer": "ipython3",
   "version": "3.6.1"
  }
 },
 "nbformat": 4,
 "nbformat_minor": 2
}
